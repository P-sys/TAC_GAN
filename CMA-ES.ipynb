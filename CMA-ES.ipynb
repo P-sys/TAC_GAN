{
  "nbformat": 4,
  "nbformat_minor": 0,
  "metadata": {
    "colab": {
      "name": "Untitled3.ipynb",
      "provenance": [],
      "authorship_tag": "ABX9TyPav8XAdoI+h7RZmsmjunvy",
      "include_colab_link": true
    },
    "kernelspec": {
      "name": "python3",
      "display_name": "Python 3"
    },
    "language_info": {
      "name": "python"
    },
    "accelerator": "TPU"
  },
  "cells": [
    {
      "cell_type": "markdown",
      "metadata": {
        "id": "view-in-github",
        "colab_type": "text"
      },
      "source": [
        "<a href=\"https://colab.research.google.com/github/P-sys/TAC_GAN/blob/master/CMA-ES.ipynb\" target=\"_parent\"><img src=\"https://colab.research.google.com/assets/colab-badge.svg\" alt=\"Open In Colab\"/></a>"
      ]
    },
    {
      "cell_type": "code",
      "metadata": {
        "colab": {
          "base_uri": "https://localhost:8080/"
        },
        "id": "2DoAVucRbXxe",
        "outputId": "ce083337-0601-46d4-bb7b-88bddbad6b80"
      },
      "source": [
        "pip install cmaes"
      ],
      "execution_count": 1,
      "outputs": [
        {
          "output_type": "stream",
          "text": [
            "Collecting cmaes\n",
            "  Downloading https://files.pythonhosted.org/packages/01/1f/43b01223a0366171f474320c6e966c39a11587287f098a5f09809b45e05f/cmaes-0.8.2-py3-none-any.whl\n",
            "Requirement already satisfied: numpy in /usr/local/lib/python3.7/dist-packages (from cmaes) (1.19.5)\n",
            "Installing collected packages: cmaes\n",
            "Successfully installed cmaes-0.8.2\n"
          ],
          "name": "stdout"
        }
      ]
    },
    {
      "cell_type": "code",
      "metadata": {
        "colab": {
          "base_uri": "https://localhost:8080/",
          "height": 1000
        },
        "id": "F6RrD8H1bUAi",
        "outputId": "d9d2a11e-c314-45e5-cf94-68a5d147943c"
      },
      "source": [
        "import numpy as np\n",
        "from math import cos, pi\n",
        "import matplotlib.pyplot as plt\n",
        "import random\n",
        "from random import randint\n",
        "from tqdm import tqdm\n",
        "import os\n",
        "\n",
        "# Directory to store data\n",
        "directory = '/Desktop/plots'\n",
        "if not os.path.exists(directory):\n",
        "  os.makedirs(directory)\n",
        "\n",
        "# Functions\n",
        "\n",
        "def rastriginFunction(x, A=10):\n",
        "\n",
        "  n = x.shape[1]\n",
        "  n_0 = x.shape[0]\n",
        "  \n",
        "  summy = np.zeros(n_0)\n",
        "  half_x = int(n_0/2)\n",
        "\n",
        "  for i in range(half_x):\n",
        "    for j in range(n):\n",
        "      x[i,j] = round(x[i, j])\n",
        "  for i in range(n):\n",
        "    summy = summy + ( x[:,i]**2 - A * np.cos(2*pi*x[:,i]) )\n",
        "\n",
        "  c = A * n\n",
        "    \n",
        "  return c + summy\n",
        "\n",
        "# CMA-ES\n",
        "class CMA_ES:\n",
        "\n",
        "    def __init__(self):\n",
        "\n",
        "        # Initialize mean and standard deviation\n",
        "        self.theta_mean = np.random.uniform(min_val, max_val, (dim_theta))\n",
        "\n",
        "        theta_std = np.random.uniform(max_val-1, max_val, (dim_theta))\n",
        "        self.theta_cov = np.diag(theta_std)\n",
        "\n",
        "        self.n_samples = n_samples\n",
        "        self.t = n_iterations\n",
        "        self.top_p = top_p\n",
        "        self.fit_gaussian()\n",
        "\n",
        "    def fit_gaussian(self):\n",
        "        # theta is actually the population sampled from the distribution\n",
        "        theta = np.random.multivariate_normal(self.theta_mean, self.theta_cov, (n_samples))\n",
        "        self.theta = np.clip(theta, min_val, max_val)\n",
        "\n",
        "    def generation(self):\n",
        "        # Sample n_sample candidates from N(theta)\n",
        "        mean_fitness = []\n",
        "        best_fitness = []\n",
        "        worst_fitness = []\n",
        "\n",
        "        for i in tqdm(range(0, self.t)):\n",
        "            fitness = self.evaluate_fitness(self.theta)\n",
        "\n",
        "            mean_fitness.append(np.mean(fitness))\n",
        "            best_fitness.append(np.min(fitness))\n",
        "            worst_fitness .append(np.max(fitness))\n",
        "\n",
        "            couple = list(zip(self.theta, fitness.T))\n",
        "            sorted_fitness= sorted(couple, key=lambda tup: tup[1])\n",
        "            elite = self.take_elite(sorted_fitness)\n",
        "            \n",
        "            e_candidates = [i[0] for i in elite]\n",
        "\n",
        "            plt.pause(pause)\n",
        "            self.theta_cov = self.compute_new_cov(e_candidates)\n",
        "            self.theta_mean = self.compute_new_mean(e_candidates)\n",
        "            self.fit_gaussian()\n",
        "\n",
        "        \n",
        "        plt.plot(mean_fitness)\n",
        "        plt.show()\n",
        "\n",
        "        return mean_fitness, best_fitness, worst_fitness     \n",
        "\n",
        "    def take_elite(self, candidates):\n",
        "        n_top = int((self.n_samples * self.top_p)/ 100)\n",
        "        elite = candidates[:n_top]\n",
        "        return elite\n",
        "\n",
        "    def compute_new_mean(self, e_candidates):\n",
        "        \n",
        "        new_means = np.mean(e_candidates, axis=0)\n",
        "        return new_means\n",
        "\n",
        "    def compute_new_cov(self, e_candidates):\n",
        "        e_candidates = np.array(e_candidates)\n",
        "        I = np.identity(dim_theta)\n",
        "        cov = np.zeros((dim_theta, dim_theta))\n",
        "        for i in range(dim_theta):\n",
        "            for j in range(dim_theta):\n",
        "                cov[i,j] = np.sum(((e_candidates[:,i] - self.theta_mean[i]) * (e_candidates[:,j] - self.theta_mean[j])), axis=0)\n",
        "\n",
        "        return 1/e_candidates.shape[0] * cov + I * 1e-3\n",
        "\n",
        "    def evaluate_fitness(self, candidates):\n",
        "      \n",
        "      return rastriginFunction(candidates)\n",
        "\n",
        "# Run the desired algorithm and return the data\n",
        "def run():\n",
        "  cma = CMA_ES()\n",
        "  m, b, w = cma.generation()\n",
        "  \n",
        "  return m, b, w\n",
        "\n",
        "\n",
        "# number of dimensions\n",
        "dim_theta = 1000\n",
        "\n",
        "# Population Size\n",
        "n_samples = 3000\n",
        "\n",
        "# Elite ratio percentage\n",
        "top_p = 20\n",
        "\n",
        "# Number of Generations\n",
        "n_iterations = 300\n",
        "\n",
        "# Range of values\n",
        "min_val = -5\n",
        "max_val = 5\n",
        "\n",
        "# Number of Runs\n",
        "runs = 3\n",
        "\n",
        "# Plot output frequency\n",
        "pause = 0.01\n",
        "\n",
        "mean = []\n",
        "best = []\n",
        "worst = []\n",
        "\n",
        "# Run the algorithm runs times and save the results\n",
        "for i in range(runs):\n",
        "    m, b, w = run()\n",
        "    mean.append(m)\n",
        "    best.append(b)\n",
        "    worst.append(w)\n",
        "\n",
        "# Compute the mean over the runs\n",
        "mean_3 = np.mean(mean, axis=0)\n",
        "best_3 = np.mean(best, axis=0)\n",
        "worst_3 = np.mean(worst, axis=0)\n",
        "\n",
        "print(\"===========================================!!!!!!!!!!!!!!!!!\")\n",
        "print(best_3)\n",
        "print(best_3.shape)\n",
        "\n",
        "# Plot the data\n",
        "plt.plot(mean_3, label='mean')\n",
        "plt.plot(best_3, 'g', label='best')\n",
        "plt.plot(worst_3, 'r', label='worst')\n",
        "plt.legend(loc='upper right')\n",
        "plt.show()\n",
        "\n",
        "# np.save(directory + \"/\" + \"cma_es_mean\"  + \"_\" + str(dim_theta) + \"_\" + str(n_samples) + \"_\" + str(n_iterations) + \"_\" + str(top_p) + \"_\" + str(alpha), mean_3)\n",
        "# np.save(directory + \"/\" + algorithm + \"_\" + \"best\" + \"_\" + str(dim_theta) + \"_\" + str(n_samples) + \"_\" + str(n_iterations) + \"_\" + str(top_p) + \"_\" + str(alpha), best_3)\n",
        "# np.save(directory + \"/\" + algorithm + \"_\" + \"worst\" + \"_\" + str(dim_theta) + \"_\" + str(n_samples) + \"_\" + str(n_iterations) + \"_\" + str(top_p) + \"_\" + str(alpha), worst_3)"
      ],
      "execution_count": 2,
      "outputs": [
        {
          "output_type": "stream",
          "text": [
            "100%|██████████| 300/300 [1:34:31<00:00, 18.90s/it]\n"
          ],
          "name": "stderr"
        },
        {
          "output_type": "display_data",
          "data": {
            "image/png": "[encoded data removed]",
            "text/plain": [
              "<Figure size 432x288 with 1 Axes>"
            ]
          },
          "metadata": {
            "tags": []
          }
        },
        {
          "output_type": "stream",
          "text": [
            "100%|██████████| 300/300 [1:38:04<00:00, 19.62s/it]\n"
          ],
          "name": "stderr"
        },
        {
          "output_type": "display_data",
          "data": {
            "image/png": "[encoded data removed]",
            "text/plain": [
              "<Figure size 432x288 with 1 Axes>"
            ]
          },
          "metadata": {
            "tags": [],
            "needs_background": "light"
          }
        },
        {
          "output_type": "stream",
          "text": [
            "100%|██████████| 300/300 [1:31:27<00:00, 18.29s/it]\n"
          ],
          "name": "stderr"
        },
        {
          "output_type": "display_data",
          "data": {
            "image/png": "[encoded data removed]",
            "text/plain": [
              "<Figure size 432x288 with 1 Axes>"
            ]
          },
          "metadata": {
            "tags": [],
            "needs_background": "light"
          }
        },
        {
          "output_type": "stream",
          "text": [
            "===========================================!!!!!!!!!!!!!!!!!\n",
            "[9362.         5725.66666667 4081.66666667 3403.33333333 2960.\n",
            " 2810.66666667 2552.         2345.         2257.33333333 2156.33333333\n",
            " 1990.66666667 1880.         1772.66666667 1695.66666667 1612.66666667\n",
            " 1564.33333333 1502.33333333 1469.         1447.66666667 1413.33333333\n",
            " 1347.33333333 1351.33333333 1270.33333333 1296.66666667 1281.33333333\n",
            " 1253.66666667 1225.33333333 1214.33333333 1228.66666667 1203.\n",
            " 1185.33333333 1158.66666667 1116.33333333 1109.33333333 1150.\n",
            " 1137.33333333 1100.66666667 1079.         1065.33333333 1079.66666667\n",
            " 1069.33333333 1077.33333333 1038.33333333 1054.66666667 1014.33333333\n",
            " 1017.33333333  997.         1001.         1013.         1009.33333333\n",
            " 1000.33333333  964.66666667  969.66666667  989.66666667  962.66666667\n",
            "  921.66666667  952.          953.33333333  941.          927.\n",
            "  938.          938.66666667  927.66666667  919.          915.\n",
            "  895.          890.          900.33333333  893.          884.66666667\n",
            "  887.33333333  881.66666667  865.33333333  871.66666667  849.33333333\n",
            "  854.          856.66666667  861.          839.33333333  828.\n",
            "  827.66666667  829.33333333  838.33333333  821.66666667  810.\n",
            "  824.33333333  807.33333333  829.          778.33333333  794.33333333\n",
            "  784.33333333  789.33333333  783.          787.66666667  796.33333333\n",
            "  774.33333333  791.          765.66666667  789.          768.66666667\n",
            "  753.33333333  747.          776.66666667  774.33333333  760.33333333\n",
            "  742.          759.          734.33333333  738.66666667  749.\n",
            "  755.          744.33333333  717.33333333  722.66666667  712.33333333\n",
            "  735.33333333  740.33333333  715.66666667  730.          733.66666667\n",
            "  726.          753.66666667  704.33333333  702.          714.\n",
            "  704.33333333  695.66666667  712.33333333  727.33333333  704.66666667\n",
            "  717.          706.66666667  714.66666667  706.33333333  705.66666667\n",
            "  710.33333333  692.33333333  705.          706.33333333  710.66666667\n",
            "  714.66666667  685.66666667  682.66666667  718.          701.66666667\n",
            "  686.33333333  696.66666667  688.33333333  690.          698.\n",
            "  686.66666667  699.          689.          686.66666667  703.33333333\n",
            "  680.          670.66666667  685.33333333  698.66666667  678.33333333\n",
            "  683.66666667  660.66666667  691.33333333  675.33333333  664.\n",
            "  677.33333333  651.33333333  676.33333333  679.66666667  657.33333333\n",
            "  662.66666667  680.66666667  668.66666667  666.          659.\n",
            "  683.          672.          672.33333333  652.33333333  672.66666667\n",
            "  664.33333333  658.          654.66666667  652.          651.33333333\n",
            "  676.66666667  670.33333333  674.66666667  663.          645.66666667\n",
            "  672.          637.33333333  660.          662.66666667  635.33333333\n",
            "  654.          660.66666667  667.33333333  659.33333333  656.33333333\n",
            "  643.33333333  643.          635.33333333  660.33333333  662.\n",
            "  655.66666667  648.          660.          635.33333333  657.66666667\n",
            "  649.66666667  656.          661.33333333  661.66666667  644.33333333\n",
            "  653.          637.33333333  658.66666667  658.          645.\n",
            "  649.33333333  662.          651.          643.66666667  659.\n",
            "  665.66666667  650.33333333  663.66666667  666.33333333  650.33333333\n",
            "  620.66666667  638.66666667  646.33333333  659.66666667  640.33333333\n",
            "  656.          652.66666667  671.66666667  650.33333333  674.33333333\n",
            "  621.66666667  643.66666667  657.          654.66666667  653.\n",
            "  659.          640.66666667  649.66666667  663.66666667  653.\n",
            "  645.33333333  662.33333333  651.33333333  649.66666667  650.33333333\n",
            "  647.66666667  671.66666667  657.33333333  642.          661.\n",
            "  656.66666667  631.          638.66666667  624.33333333  646.33333333\n",
            "  654.          641.33333333  664.66666667  676.33333333  626.66666667\n",
            "  640.33333333  648.33333333  658.33333333  644.33333333  658.\n",
            "  643.33333333  630.66666667  655.33333333  630.          639.33333333\n",
            "  629.66666667  643.          649.          641.          654.33333333\n",
            "  643.          660.          643.33333333  641.33333333  648.\n",
            "  648.          650.66666667  648.66666667  639.66666667  655.33333333\n",
            "  634.33333333  655.33333333  641.33333333  654.          644.        ]\n",
            "(300,)\n"
          ],
          "name": "stdout"
        },
        {
          "output_type": "display_data",
          "data": {
            "image/png": "[encoded data removed]",
            "text/plain": [
              "<Figure size 432x288 with 1 Axes>"
            ]
          },
          "metadata": {
            "tags": [],
            "needs_background": "light"
          }
        }
      ]
    },
    {
      "cell_type": "code",
      "metadata": {
        "id": "pkKjoYbQfDUe"
      },
      "source": [
        ""
      ],
      "execution_count": null,
      "outputs": []
    }
  ]
}